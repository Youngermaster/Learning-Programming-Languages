{
 "cells": [
  {
   "cell_type": "code",
   "execution_count": null,
   "metadata": {},
   "outputs": [],
   "source": [
    "import tensorflow as tf\n",
    "import numpy as np\n"
   ]
  },
  {
   "cell_type": "code",
   "execution_count": null,
   "metadata": {},
   "outputs": [],
   "source": [
    "celsius = np.array([-40, -10, 0, 8, 15, 22, 38], dtype=float)\n",
    "fahrenheit = np.array([-40, 14, 32, 46, 59, 72, 100], dtype=float)\n"
   ]
  },
  {
   "cell_type": "code",
   "execution_count": null,
   "metadata": {},
   "outputs": [],
   "source": [
    "#capa = tf.keras.layers.Dense(units=1, input_shape=[1])\n",
    "#modelo = tf.keras.Sequential([capa])\n",
    "\n",
    "oculta1 = tf.keras.layers.Dense(units=3, input_shape=[1])\n",
    "oculta2 = tf.keras.layers.Dense(units=3)\n",
    "salida = tf.keras.layers.Dense(units=1)\n",
    "modelo = tf.keras.Sequential([oculta1, oculta2, salida])\n"
   ]
  },
  {
   "cell_type": "code",
   "execution_count": null,
   "metadata": {},
   "outputs": [],
   "source": [
    "modelo.compile(\n",
    "    optimizer=tf.keras.optimizers.Adam(0.1),\n",
    "    loss='mean_squared_error'\n",
    ")\n"
   ]
  },
  {
   "cell_type": "code",
   "execution_count": null,
   "metadata": {},
   "outputs": [],
   "source": [
    "print(\"Comenzando entrenamiento...\")\n",
    "historial = modelo.fit(celsius, fahrenheit, epochs=1000, verbose=False)\n",
    "print(\"Modelo entrenado!\")\n"
   ]
  },
  {
   "cell_type": "code",
   "execution_count": null,
   "metadata": {},
   "outputs": [],
   "source": [
    "import matplotlib.pyplot as plt\n",
    "plt.xlabel(\"# Epoca\")\n",
    "plt.ylabel(\"Magnitud de pérdida\")\n",
    "plt.plot(historial.history[\"loss\"])\n"
   ]
  },
  {
   "cell_type": "code",
   "execution_count": null,
   "metadata": {},
   "outputs": [],
   "source": [
    "print(\"Hagamos una predicción!\")\n",
    "resultado = modelo.predict([100.0])\n",
    "print(\"El resultado es \" + str(resultado) + \" fahrenheit!\")\n"
   ]
  },
  {
   "cell_type": "code",
   "execution_count": null,
   "metadata": {},
   "outputs": [],
   "source": [
    "print(\"Variables internas del modelo\")\n",
    "# print(capa.get_weights())\n",
    "print(oculta1.get_weights())\n",
    "print(oculta2.get_weights())\n",
    "print(salida.get_weights())\n"
   ]
  }
 ],
 "metadata": {
  "interpreter": {
   "hash": "2cf5a5c1da4f9428d1498adae01c24965783ef54ffb64027bf2b2a71453967d2"
  },
  "kernelspec": {
   "display_name": "Python 3.10.0 64-bit",
   "language": "python",
   "name": "python3"
  },
  "language_info": {
   "codemirror_mode": {
    "name": "ipython",
    "version": 3
   },
   "file_extension": ".py",
   "mimetype": "text/x-python",
   "name": "python",
   "nbconvert_exporter": "python",
   "pygments_lexer": "ipython3",
   "version": "3.10.0"
  },
  "orig_nbformat": 4
 },
 "nbformat": 4,
 "nbformat_minor": 2
}
